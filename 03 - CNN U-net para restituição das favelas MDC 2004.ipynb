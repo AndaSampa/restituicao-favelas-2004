{
  "nbformat": 4,
  "nbformat_minor": 5,
  "metadata": {
    "interpreter": {
      "hash": "2fc3b0703690f29d62b9f9dbd1919f0e8701ec5eb020b9b4189cb372d3cb0755"
    },
    "kernelspec": {
      "display_name": "Python 3 (ipykernel)",
      "language": "python",
      "name": "python3"
    },
    "language_info": {
      "codemirror_mode": {
        "name": "ipython",
        "version": 3
      },
      "file_extension": ".py",
      "mimetype": "text/x-python",
      "name": "python",
      "nbconvert_exporter": "python",
      "pygments_lexer": "ipython3",
      "version": "3.9.7"
    },
    "colab": {
      "name": "03 - CNN U-net para restituição das favelas MDC 2004.ipynb",
      "provenance": [],
      "machine_shape": "hm",
      "include_colab_link": true
    },
    "accelerator": "GPU"
  },
  "cells": [
    {
      "cell_type": "markdown",
      "metadata": {
        "id": "view-in-github",
        "colab_type": "text"
      },
      "source": [
        "<a href=\"https://colab.research.google.com/github/AndaSampa/restituicao-favelas-2004/blob/main/03%20-%20CNN%20U-net%20para%20restitui%C3%A7%C3%A3o%20das%20favelas%20MDC%202004.ipynb\" target=\"_parent\"><img src=\"https://colab.research.google.com/assets/colab-badge.svg\" alt=\"Open In Colab\"/></a>"
      ]
    },
    {
      "cell_type": "markdown",
      "metadata": {
        "id": "ce0de3e4"
      },
      "source": [
        "# Restituição de favelas MDC 2004\n",
        "\n",
        "Seguindo tutorial de referência https://towardsdatascience.com/creating-and-training-a-u-net-model-with-pytorch-for-2d-3d-semantic-segmentation-dataset-fb1f7f80fe55"
      ],
      "id": "ce0de3e4"
    },
    {
      "cell_type": "markdown",
      "metadata": {
        "id": "f1c343f8"
      },
      "source": [
        "## Carregando conjunto de dados de treinamento"
      ],
      "id": "f1c343f8"
    },
    {
      "cell_type": "code",
      "metadata": {
        "id": "e7893846"
      },
      "source": [
        "import torch\n",
        "import numpy as np\n",
        "from skimage.io import imread\n",
        "from torch.utils import data\n",
        "from torch.optim import AdamW\n",
        "from torch.utils.data.sampler import SubsetRandomSampler"
      ],
      "id": "e7893846",
      "execution_count": 1,
      "outputs": []
    },
    {
      "cell_type": "code",
      "metadata": {
        "id": "db6b22f7"
      },
      "source": [
        "cuda = torch.device(\"cuda\")\n",
        "batch_size = 75\n",
        "work_folder = '/content/restituicao-favelas-2004/'"
      ],
      "id": "db6b22f7",
      "execution_count": 2,
      "outputs": []
    },
    {
      "cell_type": "code",
      "metadata": {
        "id": "400b86d5"
      },
      "source": [
        "class Favelas2004DataSet(data.Dataset):\n",
        "    def __init__(self,\n",
        "                 inputs: list,\n",
        "                 targets: list,\n",
        "                 transform=None\n",
        "                 ):\n",
        "        self.inputs = inputs\n",
        "        self.targets = targets\n",
        "        self.transform = transform\n",
        "        self.inputs_dtype = torch.float32\n",
        "        self.targets_dtype = torch.long\n",
        "\n",
        "    def __len__(self):\n",
        "        return len(self.inputs)\n",
        "\n",
        "    def __getitem__(self,\n",
        "                    index: int):\n",
        "        # Select the sample\n",
        "        input_ID = self.inputs[index]\n",
        "        target_ID = self.targets[index]\n",
        "\n",
        "        # Load input and target\n",
        "        x, y = imread(input_ID), imread(target_ID, plugin='pil')\n",
        "\n",
        "        # Preprocessing\n",
        "        if self.transform is not None:\n",
        "            x, y = self.transform(x, y)\n",
        "\n",
        "        # Typecasting\n",
        "        x, y = torch.from_numpy(x).type(self.inputs_dtype), torch.from_numpy(y).type(self.targets_dtype)\n",
        "\n",
        "        return x, y"
      ],
      "id": "400b86d5",
      "execution_count": 3,
      "outputs": []
    },
    {
      "cell_type": "code",
      "metadata": {
        "colab": {
          "base_uri": "https://localhost:8080/"
        },
        "id": "7669c11c",
        "outputId": "847911b6-f2d9-4da3-b924-ea9879ea353e"
      },
      "source": [
        "import glob\n",
        "\n",
        "inputs = glob.glob(f'{work_folder}ortofotosMDC2004/licoes/*.JPG')\n",
        "targets = glob.glob(f'{work_folder}ortofotosMDC2004/licoes/*-mask.tif')\n",
        "\n",
        "dataset = Favelas2004DataSet(inputs=inputs,\n",
        "                            targets=targets,\n",
        "                            transform=None)\n",
        "\n",
        "validation_split = .2\n",
        "shuffle_dataset = True\n",
        "random_seed= 42                            \n",
        "\n",
        "# Creating data indices for training and validation splits:\n",
        "dataset_size = len(dataset)\n",
        "indices = list(range(dataset_size))\n",
        "split = int(np.floor(validation_split * dataset_size))\n",
        "if shuffle_dataset :\n",
        "    np.random.seed(random_seed)\n",
        "    np.random.shuffle(indices)\n",
        "train_indices, val_indices = indices[split:], indices[:split]\n",
        "\n",
        "# Creating PT data samplers and loaders:\n",
        "train_sampler = SubsetRandomSampler(train_indices)\n",
        "valid_sampler = SubsetRandomSampler(val_indices)\n",
        "\n",
        "training_dataloader = data.DataLoader(dataset=dataset,\n",
        "                                    batch_size=batch_size,\n",
        "                                    sampler=train_sampler)\n",
        "\n",
        "validating_dataloader = data.DataLoader(dataset=dataset,\n",
        "                                    batch_size=batch_size,\n",
        "                                    sampler=valid_sampler)                                    \n",
        "\n",
        "print(f\"Quantidade de inputs, targets, treinamento e validacoes: \\\n",
        "    {len(inputs)}, {len(targets)}, {len(training_dataloader)}, {len(validating_dataloader)}\")"
      ],
      "id": "7669c11c",
      "execution_count": 4,
      "outputs": [
        {
          "output_type": "stream",
          "name": "stdout",
          "text": [
            "Quantidade de inputs, targets, treinamento e validacoes:     7846, 7846, 84, 21\n"
          ]
        }
      ]
    },
    {
      "cell_type": "code",
      "metadata": {
        "id": "4b0a81fe"
      },
      "source": [
        "x, y = next(iter(training_dataloader))"
      ],
      "id": "4b0a81fe",
      "execution_count": 5,
      "outputs": []
    },
    {
      "cell_type": "code",
      "metadata": {
        "colab": {
          "base_uri": "https://localhost:8080/"
        },
        "id": "337c3554",
        "outputId": "d66fb8b1-3dac-46f7-f16c-078cc2c469dd"
      },
      "source": [
        "print(x.shape, y.shape, x.dtype, y.dtype)\n",
        "print(x.min(), x.max(), y.min(), y.max())"
      ],
      "id": "337c3554",
      "execution_count": 6,
      "outputs": [
        {
          "output_type": "stream",
          "name": "stdout",
          "text": [
            "torch.Size([75, 256, 256, 3]) torch.Size([75, 256, 256]) torch.float32 torch.int64\n",
            "tensor(0.) tensor(255.) tensor(0) tensor(1)\n"
          ]
        }
      ]
    },
    {
      "cell_type": "markdown",
      "metadata": {
        "id": "a07ea40e"
      },
      "source": [
        "## Modelo U-Net"
      ],
      "id": "a07ea40e"
    },
    {
      "cell_type": "code",
      "metadata": {
        "colab": {
          "base_uri": "https://localhost:8080/"
        },
        "id": "91799551",
        "outputId": "09fbdba6-65de-483a-e154-be6ea0efd650"
      },
      "source": [
        "model = torch.hub.load('mateuszbuda/brain-segmentation-pytorch', 'unet',\n",
        "    in_channels=3, out_channels=1, init_features=32, pretrained=False).to(\"cuda\")"
      ],
      "id": "91799551",
      "execution_count": 7,
      "outputs": [
        {
          "output_type": "stream",
          "name": "stderr",
          "text": [
            "Using cache found in /root/.cache/torch/hub/mateuszbuda_brain-segmentation-pytorch_master\n"
          ]
        }
      ]
    },
    {
      "cell_type": "code",
      "metadata": {
        "colab": {
          "base_uri": "https://localhost:8080/"
        },
        "id": "4da69818",
        "outputId": "3363a309-af6d-4c00-889c-ec09aa9506d5"
      },
      "source": [
        "model"
      ],
      "id": "4da69818",
      "execution_count": 8,
      "outputs": [
        {
          "output_type": "execute_result",
          "data": {
            "text/plain": [
              "UNet(\n",
              "  (encoder1): Sequential(\n",
              "    (enc1conv1): Conv2d(3, 32, kernel_size=(3, 3), stride=(1, 1), padding=(1, 1), bias=False)\n",
              "    (enc1norm1): BatchNorm2d(32, eps=1e-05, momentum=0.1, affine=True, track_running_stats=True)\n",
              "    (enc1relu1): ReLU(inplace=True)\n",
              "    (enc1conv2): Conv2d(32, 32, kernel_size=(3, 3), stride=(1, 1), padding=(1, 1), bias=False)\n",
              "    (enc1norm2): BatchNorm2d(32, eps=1e-05, momentum=0.1, affine=True, track_running_stats=True)\n",
              "    (enc1relu2): ReLU(inplace=True)\n",
              "  )\n",
              "  (pool1): MaxPool2d(kernel_size=2, stride=2, padding=0, dilation=1, ceil_mode=False)\n",
              "  (encoder2): Sequential(\n",
              "    (enc2conv1): Conv2d(32, 64, kernel_size=(3, 3), stride=(1, 1), padding=(1, 1), bias=False)\n",
              "    (enc2norm1): BatchNorm2d(64, eps=1e-05, momentum=0.1, affine=True, track_running_stats=True)\n",
              "    (enc2relu1): ReLU(inplace=True)\n",
              "    (enc2conv2): Conv2d(64, 64, kernel_size=(3, 3), stride=(1, 1), padding=(1, 1), bias=False)\n",
              "    (enc2norm2): BatchNorm2d(64, eps=1e-05, momentum=0.1, affine=True, track_running_stats=True)\n",
              "    (enc2relu2): ReLU(inplace=True)\n",
              "  )\n",
              "  (pool2): MaxPool2d(kernel_size=2, stride=2, padding=0, dilation=1, ceil_mode=False)\n",
              "  (encoder3): Sequential(\n",
              "    (enc3conv1): Conv2d(64, 128, kernel_size=(3, 3), stride=(1, 1), padding=(1, 1), bias=False)\n",
              "    (enc3norm1): BatchNorm2d(128, eps=1e-05, momentum=0.1, affine=True, track_running_stats=True)\n",
              "    (enc3relu1): ReLU(inplace=True)\n",
              "    (enc3conv2): Conv2d(128, 128, kernel_size=(3, 3), stride=(1, 1), padding=(1, 1), bias=False)\n",
              "    (enc3norm2): BatchNorm2d(128, eps=1e-05, momentum=0.1, affine=True, track_running_stats=True)\n",
              "    (enc3relu2): ReLU(inplace=True)\n",
              "  )\n",
              "  (pool3): MaxPool2d(kernel_size=2, stride=2, padding=0, dilation=1, ceil_mode=False)\n",
              "  (encoder4): Sequential(\n",
              "    (enc4conv1): Conv2d(128, 256, kernel_size=(3, 3), stride=(1, 1), padding=(1, 1), bias=False)\n",
              "    (enc4norm1): BatchNorm2d(256, eps=1e-05, momentum=0.1, affine=True, track_running_stats=True)\n",
              "    (enc4relu1): ReLU(inplace=True)\n",
              "    (enc4conv2): Conv2d(256, 256, kernel_size=(3, 3), stride=(1, 1), padding=(1, 1), bias=False)\n",
              "    (enc4norm2): BatchNorm2d(256, eps=1e-05, momentum=0.1, affine=True, track_running_stats=True)\n",
              "    (enc4relu2): ReLU(inplace=True)\n",
              "  )\n",
              "  (pool4): MaxPool2d(kernel_size=2, stride=2, padding=0, dilation=1, ceil_mode=False)\n",
              "  (bottleneck): Sequential(\n",
              "    (bottleneckconv1): Conv2d(256, 512, kernel_size=(3, 3), stride=(1, 1), padding=(1, 1), bias=False)\n",
              "    (bottlenecknorm1): BatchNorm2d(512, eps=1e-05, momentum=0.1, affine=True, track_running_stats=True)\n",
              "    (bottleneckrelu1): ReLU(inplace=True)\n",
              "    (bottleneckconv2): Conv2d(512, 512, kernel_size=(3, 3), stride=(1, 1), padding=(1, 1), bias=False)\n",
              "    (bottlenecknorm2): BatchNorm2d(512, eps=1e-05, momentum=0.1, affine=True, track_running_stats=True)\n",
              "    (bottleneckrelu2): ReLU(inplace=True)\n",
              "  )\n",
              "  (upconv4): ConvTranspose2d(512, 256, kernel_size=(2, 2), stride=(2, 2))\n",
              "  (decoder4): Sequential(\n",
              "    (dec4conv1): Conv2d(512, 256, kernel_size=(3, 3), stride=(1, 1), padding=(1, 1), bias=False)\n",
              "    (dec4norm1): BatchNorm2d(256, eps=1e-05, momentum=0.1, affine=True, track_running_stats=True)\n",
              "    (dec4relu1): ReLU(inplace=True)\n",
              "    (dec4conv2): Conv2d(256, 256, kernel_size=(3, 3), stride=(1, 1), padding=(1, 1), bias=False)\n",
              "    (dec4norm2): BatchNorm2d(256, eps=1e-05, momentum=0.1, affine=True, track_running_stats=True)\n",
              "    (dec4relu2): ReLU(inplace=True)\n",
              "  )\n",
              "  (upconv3): ConvTranspose2d(256, 128, kernel_size=(2, 2), stride=(2, 2))\n",
              "  (decoder3): Sequential(\n",
              "    (dec3conv1): Conv2d(256, 128, kernel_size=(3, 3), stride=(1, 1), padding=(1, 1), bias=False)\n",
              "    (dec3norm1): BatchNorm2d(128, eps=1e-05, momentum=0.1, affine=True, track_running_stats=True)\n",
              "    (dec3relu1): ReLU(inplace=True)\n",
              "    (dec3conv2): Conv2d(128, 128, kernel_size=(3, 3), stride=(1, 1), padding=(1, 1), bias=False)\n",
              "    (dec3norm2): BatchNorm2d(128, eps=1e-05, momentum=0.1, affine=True, track_running_stats=True)\n",
              "    (dec3relu2): ReLU(inplace=True)\n",
              "  )\n",
              "  (upconv2): ConvTranspose2d(128, 64, kernel_size=(2, 2), stride=(2, 2))\n",
              "  (decoder2): Sequential(\n",
              "    (dec2conv1): Conv2d(128, 64, kernel_size=(3, 3), stride=(1, 1), padding=(1, 1), bias=False)\n",
              "    (dec2norm1): BatchNorm2d(64, eps=1e-05, momentum=0.1, affine=True, track_running_stats=True)\n",
              "    (dec2relu1): ReLU(inplace=True)\n",
              "    (dec2conv2): Conv2d(64, 64, kernel_size=(3, 3), stride=(1, 1), padding=(1, 1), bias=False)\n",
              "    (dec2norm2): BatchNorm2d(64, eps=1e-05, momentum=0.1, affine=True, track_running_stats=True)\n",
              "    (dec2relu2): ReLU(inplace=True)\n",
              "  )\n",
              "  (upconv1): ConvTranspose2d(64, 32, kernel_size=(2, 2), stride=(2, 2))\n",
              "  (decoder1): Sequential(\n",
              "    (dec1conv1): Conv2d(64, 32, kernel_size=(3, 3), stride=(1, 1), padding=(1, 1), bias=False)\n",
              "    (dec1norm1): BatchNorm2d(32, eps=1e-05, momentum=0.1, affine=True, track_running_stats=True)\n",
              "    (dec1relu1): ReLU(inplace=True)\n",
              "    (dec1conv2): Conv2d(32, 32, kernel_size=(3, 3), stride=(1, 1), padding=(1, 1), bias=False)\n",
              "    (dec1norm2): BatchNorm2d(32, eps=1e-05, momentum=0.1, affine=True, track_running_stats=True)\n",
              "    (dec1relu2): ReLU(inplace=True)\n",
              "  )\n",
              "  (conv): Conv2d(32, 1, kernel_size=(1, 1), stride=(1, 1))\n",
              ")"
            ]
          },
          "metadata": {},
          "execution_count": 8
        }
      ]
    },
    {
      "cell_type": "markdown",
      "metadata": {
        "id": "f1ab7d79"
      },
      "source": [
        "## Treinando o modelo"
      ],
      "id": "f1ab7d79"
    },
    {
      "cell_type": "code",
      "metadata": {
        "id": "56914be0"
      },
      "source": [
        "from torch import nn"
      ],
      "id": "56914be0",
      "execution_count": 9,
      "outputs": []
    },
    {
      "cell_type": "code",
      "metadata": {
        "id": "f2188449"
      },
      "source": [
        "def dice_metric(inputs, target):\n",
        "    intersection = 2.0 * (target * inputs).sum()\n",
        "    union = target.sum() + inputs.sum()\n",
        "    if target.sum() == 0 and inputs.sum() == 0:\n",
        "        return 1.0\n",
        "\n",
        "    return intersection / union\n",
        "\n",
        "def dice_loss(inputs, target):\n",
        "    num = target.size(0)\n",
        "    inputs = inputs.reshape(num, -1)\n",
        "    target = target.reshape(num, -1)\n",
        "    smooth = 1.0\n",
        "    intersection = (inputs * target)\n",
        "    dice = (2. * intersection.sum(1) + smooth) / (inputs.sum(1) + target.sum(1) + smooth)\n",
        "    dice = 1 - dice.sum() / num\n",
        "    return dice\n",
        "\n",
        "def bce_dice_loss(inputs, target):\n",
        "    dicescore = dice_loss(inputs, target)\n",
        "    bcescore = nn.BCELoss()\n",
        "    bceloss = bcescore(inputs, target)\n",
        "\n",
        "    return bceloss + dicescore"
      ],
      "id": "f2188449",
      "execution_count": 10,
      "outputs": []
    },
    {
      "cell_type": "code",
      "metadata": {
        "id": "44dce8a1"
      },
      "source": [
        "# criterion = bce_dice_loss\n",
        "criterion = nn.BCELoss()"
      ],
      "id": "44dce8a1",
      "execution_count": 11,
      "outputs": []
    },
    {
      "cell_type": "code",
      "metadata": {
        "id": "212501c9"
      },
      "source": [
        "optimizer = AdamW(model.parameters(), 0.1)"
      ],
      "id": "212501c9",
      "execution_count": 12,
      "outputs": []
    },
    {
      "cell_type": "markdown",
      "metadata": {
        "id": "44fc13f5"
      },
      "source": [
        "## Fazendo inferências"
      ],
      "id": "44fc13f5"
    },
    {
      "cell_type": "code",
      "metadata": {
        "id": "3d1c5889"
      },
      "source": [
        "learning_rate = 1e-3\n",
        "epochs = 5\n"
      ],
      "id": "3d1c5889",
      "execution_count": 13,
      "outputs": []
    },
    {
      "cell_type": "code",
      "metadata": {
        "id": "6ae4f04a"
      },
      "source": [
        "def train_loop(dataloader, model, loss_fn, optimizer):\n",
        "    size = len(dataloader.dataset)\n",
        "    for batch, (X, y) in enumerate(dataloader):\n",
        "        X = torch.permute(X, (0,3,1,2)).to(\"cuda\")\n",
        "        y = y.to(\"cuda\")\n",
        "        # y = model(torch.permute(y, (0,3,1,2)))\n",
        "        # Compute prediction and loss\n",
        "        pred = model(X)\n",
        "        print(X.size(), y.size())\n",
        "        print(X.dtype, y.dtype)\n",
        "        y = torch.permute(y.unsqueeze(-1), (0,3,1,2)).float()\n",
        "        loss = loss_fn(pred, y).to(\"cuda\")\n",
        "\n",
        "        # Backpropagation\n",
        "        optimizer.zero_grad()\n",
        "        loss.backward()\n",
        "        optimizer.step()\n",
        "\n",
        "        if True:\n",
        "            loss, current = loss.item(), batch * len(X)\n",
        "            print(f\"loss: {loss:>7f}  [{current:>5d}/{size:>5d}]\")\n",
        "\n",
        "\n",
        "def test_loop(dataloader, model, loss_fn):\n",
        "    size = len(dataloader.dataset)\n",
        "    num_batches = len(dataloader)\n",
        "    test_loss, correct = 0, 0\n",
        "\n",
        "    with torch.no_grad():\n",
        "        for X, y in dataloader:\n",
        "            X = torch.permute(X, (0,3,1,2)).to(\"cuda\")\n",
        "            y = torch.permute(y.unsqueeze(-1), (0,3,1,2))\n",
        "            # y = model(torch.permute(y, (0,3,1,2)))\n",
        "            pred = model(X)\n",
        "            test_loss += loss_fn(pred, y).item()\n",
        "            correct += (pred.argmax(1) == y).type(torch.float).sum().item()\n",
        "\n",
        "    test_loss /= num_batches\n",
        "    correct /= size\n",
        "    print(f\"Test Error: \\n Accuracy: {(100*correct):>0.1f}%, Avg loss: {test_loss:>8f} \\n\")"
      ],
      "id": "6ae4f04a",
      "execution_count": 14,
      "outputs": []
    },
    {
      "cell_type": "code",
      "metadata": {
        "colab": {
          "base_uri": "https://localhost:8080/"
        },
        "id": "d97f815d",
        "outputId": "98e55044-4263-4f44-eb5a-b6183561dee8"
      },
      "source": [
        "for batch, (X, y) in enumerate(training_dataloader):\n",
        "    print(torch.permute(y.unsqueeze(-1), (0,3,1,2)).size())\n",
        "    print(torch.permute(y.unsqueeze(-1), (0,3,1,2)))\n",
        "    #model(torch.permute(i[1][1], (0,3,1,2)))\n",
        "    break"
      ],
      "id": "d97f815d",
      "execution_count": 15,
      "outputs": [
        {
          "output_type": "stream",
          "name": "stdout",
          "text": [
            "torch.Size([75, 1, 256, 256])\n",
            "tensor([[[[0, 0, 0,  ..., 0, 0, 0],\n",
            "          [0, 0, 0,  ..., 0, 0, 0],\n",
            "          [0, 0, 0,  ..., 0, 0, 0],\n",
            "          ...,\n",
            "          [0, 0, 0,  ..., 1, 1, 1],\n",
            "          [0, 0, 0,  ..., 1, 1, 1],\n",
            "          [0, 0, 0,  ..., 1, 1, 1]]],\n",
            "\n",
            "\n",
            "        [[[0, 0, 0,  ..., 1, 1, 1],\n",
            "          [0, 0, 0,  ..., 1, 1, 1],\n",
            "          [0, 0, 0,  ..., 1, 1, 1],\n",
            "          ...,\n",
            "          [0, 0, 0,  ..., 0, 0, 0],\n",
            "          [0, 0, 0,  ..., 0, 0, 0],\n",
            "          [0, 0, 0,  ..., 0, 0, 0]]],\n",
            "\n",
            "\n",
            "        [[[0, 0, 0,  ..., 0, 0, 0],\n",
            "          [0, 0, 0,  ..., 0, 0, 0],\n",
            "          [0, 0, 0,  ..., 0, 0, 0],\n",
            "          ...,\n",
            "          [0, 0, 0,  ..., 0, 0, 0],\n",
            "          [0, 0, 0,  ..., 0, 0, 0],\n",
            "          [0, 0, 0,  ..., 0, 0, 0]]],\n",
            "\n",
            "\n",
            "        ...,\n",
            "\n",
            "\n",
            "        [[[0, 0, 0,  ..., 0, 0, 0],\n",
            "          [0, 0, 0,  ..., 0, 0, 0],\n",
            "          [0, 0, 0,  ..., 0, 0, 0],\n",
            "          ...,\n",
            "          [1, 1, 1,  ..., 0, 0, 0],\n",
            "          [1, 1, 1,  ..., 0, 0, 0],\n",
            "          [1, 1, 1,  ..., 0, 0, 0]]],\n",
            "\n",
            "\n",
            "        [[[0, 0, 0,  ..., 0, 0, 0],\n",
            "          [0, 0, 0,  ..., 0, 0, 0],\n",
            "          [0, 0, 0,  ..., 0, 0, 0],\n",
            "          ...,\n",
            "          [1, 1, 1,  ..., 0, 0, 0],\n",
            "          [1, 1, 1,  ..., 0, 0, 0],\n",
            "          [1, 1, 1,  ..., 0, 0, 0]]],\n",
            "\n",
            "\n",
            "        [[[0, 0, 0,  ..., 0, 0, 0],\n",
            "          [0, 0, 0,  ..., 0, 0, 0],\n",
            "          [0, 0, 0,  ..., 0, 0, 0],\n",
            "          ...,\n",
            "          [1, 1, 1,  ..., 1, 1, 1],\n",
            "          [1, 1, 1,  ..., 1, 1, 1],\n",
            "          [1, 1, 1,  ..., 1, 1, 1]]]])\n"
          ]
        }
      ]
    },
    {
      "cell_type": "code",
      "metadata": {
        "colab": {
          "base_uri": "https://localhost:8080/"
        },
        "id": "c0cb187c",
        "outputId": "89bca05a-5a89-4831-c5a6-b304c2fef86c"
      },
      "source": [
        "for t in range(epochs):\n",
        "    print(f\"Epoch {t+1}\\n-------------------------------\")\n",
        "    train_loop(training_dataloader, model, criterion, optimizer)\n",
        "    test_loop(validating_dataloader, model, criterion)\n",
        "print(\"Done!\")"
      ],
      "id": "c0cb187c",
      "execution_count": null,
      "outputs": [
        {
          "output_type": "stream",
          "name": "stdout",
          "text": [
            "Epoch 1\n",
            "-------------------------------\n",
            "torch.Size([75, 3, 256, 256]) torch.Size([75, 256, 256])\n",
            "torch.float32 torch.int64\n",
            "loss: 0.695816  [    0/ 7846]\n",
            "torch.Size([75, 3, 256, 256]) torch.Size([75, 256, 256])\n",
            "torch.float32 torch.int64\n",
            "torch.Size([75, 3, 256, 256]) torch.Size([75, 256, 256])\n",
            "torch.float32 torch.int64\n",
            "torch.Size([75, 3, 256, 256]) torch.Size([75, 256, 256])\n",
            "torch.float32 torch.int64\n",
            "torch.Size([75, 3, 256, 256]) torch.Size([75, 256, 256])\n",
            "torch.float32 torch.int64\n",
            "torch.Size([75, 3, 256, 256]) torch.Size([75, 256, 256])\n",
            "torch.float32 torch.int64\n",
            "torch.Size([75, 3, 256, 256]) torch.Size([75, 256, 256])\n",
            "torch.float32 torch.int64\n",
            "torch.Size([75, 3, 256, 256]) torch.Size([75, 256, 256])\n",
            "torch.float32 torch.int64\n",
            "torch.Size([75, 3, 256, 256]) torch.Size([75, 256, 256])\n",
            "torch.float32 torch.int64\n",
            "torch.Size([75, 3, 256, 256]) torch.Size([75, 256, 256])\n",
            "torch.float32 torch.int64\n",
            "torch.Size([75, 3, 256, 256]) torch.Size([75, 256, 256])\n",
            "torch.float32 torch.int64\n",
            "torch.Size([75, 3, 256, 256]) torch.Size([75, 256, 256])\n",
            "torch.float32 torch.int64\n",
            "torch.Size([75, 3, 256, 256]) torch.Size([75, 256, 256])\n",
            "torch.float32 torch.int64\n"
          ]
        }
      ]
    },
    {
      "cell_type": "markdown",
      "metadata": {
        "id": "78fa29df"
      },
      "source": [
        "https://github.com/qubvel/segmentation_models.pytorch#examples"
      ],
      "id": "78fa29df"
    },
    {
      "cell_type": "code",
      "metadata": {
        "id": "051f4007"
      },
      "source": [
        ""
      ],
      "id": "051f4007",
      "execution_count": null,
      "outputs": []
    },
    {
      "cell_type": "code",
      "metadata": {
        "id": "6d565c3c"
      },
      "source": [
        ""
      ],
      "id": "6d565c3c",
      "execution_count": null,
      "outputs": []
    },
    {
      "cell_type": "code",
      "metadata": {
        "id": "9cd387ae"
      },
      "source": [
        ""
      ],
      "id": "9cd387ae",
      "execution_count": null,
      "outputs": []
    }
  ]
}