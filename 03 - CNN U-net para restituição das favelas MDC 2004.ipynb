{
 "cells": [
  {
   "cell_type": "code",
   "execution_count": 2,
   "id": "a58dc4da",
   "metadata": {},
   "outputs": [],
   "source": [
    "import numpy as np \n",
    "import torch\n",
    "import torch.nn as nn\n",
    "import torch.optim as optim\n",
    "from torch.utils.data import Dataset, DataLoader"
   ]
  },
  {
   "cell_type": "markdown",
   "id": "a07ea40e",
   "metadata": {},
   "source": [
    "## Criando o modelo"
   ]
  },
  {
   "cell_type": "markdown",
   "id": "f1c343f8",
   "metadata": {},
   "source": [
    "## Carregando as licoes"
   ]
  },
  {
   "cell_type": "markdown",
   "id": "f1ab7d79",
   "metadata": {},
   "source": [
    "## Treinando o modelo"
   ]
  },
  {
   "cell_type": "markdown",
   "id": "44fc13f5",
   "metadata": {},
   "source": [
    "## Gerando as previsões"
   ]
  },
  {
   "cell_type": "code",
   "execution_count": null,
   "id": "3d1c5889",
   "metadata": {},
   "outputs": [],
   "source": []
  }
 ],
 "metadata": {
  "kernelspec": {
   "display_name": "Python 3.8.10 64-bit ('pytorch': conda)",
   "language": "python",
   "name": "python3810jvsc74a57bd0cc66f7a507ec00dd2edb53f1de7dc2c0f182f3025cbe54211f2862e146c722b3"
  },
  "language_info": {
   "codemirror_mode": {
    "name": "ipython",
    "version": 3
   },
   "file_extension": ".py",
   "mimetype": "text/x-python",
   "name": "python",
   "nbconvert_exporter": "python",
   "pygments_lexer": "ipython3",
   "version": "3.8.10"
  }
 },
 "nbformat": 4,
 "nbformat_minor": 5
}
