{
 "cells": [
  {
   "cell_type": "markdown",
   "source": [
    "# Edificações restituidas em 2004 dentro de favelas\r\n",
    "\r\n",
    "Inicialmente precisamos criar uma base de treinamento para o algorítimo de Inteligência artificial, indicando edificações que foram restituidas em 2004 dentro de favelas e posteriormente rodando para toda a cidade sobre a mesma base de ortofotos de 2004 para identificar as edificações em áreas de favela naquela data.\r\n",
    "\r\n",
    "Para isso devemos utilizar quadrículas de 32m de lado que correspodem um pouco mais do que 256 pixels de lado em uma imagem com resolução espacial de 12,5cm como as de 2004. As quadrículas que estão dentro do cadastro atual de favelas e não estão no cadastro de favelas de 2004 devem conter elementos suficientes para o treinamento.\r\n",
    "\r\n",
    "De fato, muitas áreas que são consideradas favelas foram restituidas, no entanto não é possível garantir. Para isso vamos selecionar manualmente as áreas que forem úteis para o treinamento e descartar as que não possuem lições corretas para indicar onde estão as edificações."
   ],
   "metadata": {}
  },
  {
   "cell_type": "code",
   "execution_count": null,
   "source": [
    "## TODO \r\n",
    "# Raterizar lotes\r\n",
    "# https://corteva.github.io/geocube/stable/index.html\r\n",
    "\r\n",
    "## TODO\r\n",
    "# Selecionar algumas feições para treinamento"
   ],
   "outputs": [],
   "metadata": {}
  },
  {
   "cell_type": "code",
   "execution_count": null,
   "source": [
    "import geopandas as gpd"
   ],
   "outputs": [],
   "metadata": {}
  },
  {
   "cell_type": "code",
   "execution_count": null,
   "source": [
    "gdf_favelas_mdc = gpd.read_file('MDC/DEINFO_FAVELIZACAO.shp')"
   ],
   "outputs": [],
   "metadata": {}
  },
  {
   "cell_type": "code",
   "execution_count": null,
   "source": [
    "gdf_edificacoes_mdc = gpd.read_file('MDC/DEINFO_EDIFICACAO.shp')"
   ],
   "outputs": [],
   "metadata": {}
  },
  {
   "cell_type": "code",
   "execution_count": null,
   "source": [
    "gdf_favelas_atual = gpd.read_file('data/SIRGAS_SHP_favela/SIRGAS_SHP_favela.shp')"
   ],
   "outputs": [],
   "metadata": {}
  },
  {
   "cell_type": "code",
   "execution_count": null,
   "source": [
    "gdf_quadriculas = gpd.read_file('data/quadriculas-32m-nas-areas-de-favela-atual.gpkg')"
   ],
   "outputs": [],
   "metadata": {}
  },
  {
   "cell_type": "code",
   "execution_count": null,
   "source": [
    "#gdf_edificacoes_unnary = gdf_edificacoes_mdc.unary_union()"
   ],
   "outputs": [],
   "metadata": {}
  },
  {
   "cell_type": "code",
   "execution_count": null,
   "source": [
    "gdf_edificacoes_mdc = gdf_edificacoes_mdc.to_crs(31983)"
   ],
   "outputs": [],
   "metadata": {}
  },
  {
   "cell_type": "code",
   "execution_count": null,
   "source": [
    "gdf_quadriculas_unary = gdf_quadriculas.unary_union"
   ],
   "outputs": [],
   "metadata": {}
  },
  {
   "cell_type": "code",
   "execution_count": null,
   "source": [
    "gpd.sjoin(gdf_quadriculas.sample(n=10), gdf_edificacoes_mdc, how='left')"
   ],
   "outputs": [],
   "metadata": {}
  },
  {
   "cell_type": "code",
   "execution_count": null,
   "source": [
    "gdf_edificacoes_mdc_quadriculas"
   ],
   "outputs": [],
   "metadata": {}
  },
  {
   "cell_type": "code",
   "execution_count": null,
   "source": [
    "gdf_quadriculas_alvo = gpd.sjoin(gdf_quadriculas, gdf_edificacoes_mdc, how='left')"
   ],
   "outputs": [],
   "metadata": {}
  },
  {
   "cell_type": "code",
   "execution_count": null,
   "source": [
    "gdf_quadriculas_alvo"
   ],
   "outputs": [],
   "metadata": {}
  },
  {
   "cell_type": "code",
   "execution_count": 2,
   "source": [
    "import rasterio"
   ],
   "outputs": [],
   "metadata": {}
  },
  {
   "cell_type": "code",
   "execution_count": 5,
   "source": [
    "dataset = rasterio.open('ortofotosMDC2004/1O_3332-234_060928.JPG')"
   ],
   "outputs": [],
   "metadata": {}
  },
  {
   "cell_type": "code",
   "execution_count": 6,
   "source": [
    "dataset.bounds"
   ],
   "outputs": [
    {
     "output_type": "execute_result",
     "data": {
      "text/plain": [
       "BoundingBox(left=333698.4745, bottom=7385174.3077, right=334246.4745, top=7385767.1827)"
      ]
     },
     "metadata": {},
     "execution_count": 6
    }
   ],
   "metadata": {}
  },
  {
   "cell_type": "code",
   "execution_count": null,
   "source": [],
   "outputs": [],
   "metadata": {}
  }
 ],
 "metadata": {
  "orig_nbformat": 4,
  "language_info": {
   "name": "python",
   "version": "3.8.11",
   "mimetype": "text/x-python",
   "codemirror_mode": {
    "name": "ipython",
    "version": 3
   },
   "pygments_lexer": "ipython3",
   "nbconvert_exporter": "python",
   "file_extension": ".py"
  },
  "kernelspec": {
   "name": "python3",
   "display_name": "Python 3.8.11 64-bit ('geo': conda)"
  },
  "interpreter": {
   "hash": "1e94f94c3dc9cb9ecdb50465f759d70d8afbee71b2fe12a78bdcd721d76e1ec6"
  }
 },
 "nbformat": 4,
 "nbformat_minor": 2
}