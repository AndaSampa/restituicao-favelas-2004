{
 "cells": [
  {
   "cell_type": "markdown",
   "metadata": {},
   "source": [
    "# Edificações restituidas em 2004 dentro de favelas\n",
    "\n",
    "Inicialmente precisamos criar uma base de treinamento para o algorítimo de Inteligência artificial, indicando edificações que foram restituidas em 2004 dentro de favelas e posteriormente rodando para toda a cidade sobre a mesma base de ortofotos de 2004 para identificar as edificações em áreas de favela naquela data.\n",
    "\n",
    "Para isso devemos utilizar quadrículas de 32m de lado que correspodem um pouco mais do que 256 pixels de lado em uma imagem com resolução espacial de 12,5cm como as de 2004. As quadrículas que estão dentro do cadastro atual de favelas e não estão no cadastro de favelas de 2004 devem conter elementos suficientes para o treinamento.\n",
    "\n",
    "De fato, muitas áreas que são consideradas favelas foram restituidas, no entanto não é possível garantir. Para isso vamos selecionar manualmente as áreas que forem úteis para o treinamento e descartar as que não possuem lições corretas para indicar onde estão as edificações."
   ]
  },
  {
   "cell_type": "code",
   "execution_count": 1,
   "metadata": {},
   "outputs": [],
   "source": [
    "## TODO \n",
    "# Raterizar lotes\n",
    "# https://corteva.github.io/geocube/stable/index.html\n",
    "\n",
    "## TODO\n",
    "# Selecionar algumas feições para treinamento"
   ]
  },
  {
   "cell_type": "code",
   "execution_count": 3,
   "metadata": {},
   "outputs": [
    {
     "ename": "ModuleNotFoundError",
     "evalue": "No module named 'geopandas'",
     "output_type": "error",
     "traceback": [
      "\u001b[0;31m---------------------------------------------------------------------------\u001b[0m",
      "\u001b[0;31mModuleNotFoundError\u001b[0m                       Traceback (most recent call last)",
      "\u001b[0;32m/tmp/ipykernel_17894/3841419929.py\u001b[0m in \u001b[0;36m<module>\u001b[0;34m\u001b[0m\n\u001b[0;32m----> 1\u001b[0;31m \u001b[0;32mimport\u001b[0m \u001b[0mgeopandas\u001b[0m \u001b[0;32mas\u001b[0m \u001b[0mgpd\u001b[0m\u001b[0;34m\u001b[0m\u001b[0;34m\u001b[0m\u001b[0m\n\u001b[0m",
      "\u001b[0;31mModuleNotFoundError\u001b[0m: No module named 'geopandas'"
     ]
    }
   ],
   "source": [
    "import geopandas as gpd"
   ]
  },
  {
   "cell_type": "code",
   "execution_count": null,
   "metadata": {},
   "outputs": [],
   "source": [
    "gdf_favelas_mdc = gpd.read_file('MDC/DEINFO_FAVELIZACAO.shp')"
   ]
  },
  {
   "cell_type": "code",
   "execution_count": null,
   "metadata": {},
   "outputs": [],
   "source": [
    "gdf_edificacoes_mdc = gpd.read_file('MDC/DEINFO_EDIFICACAO.shp')"
   ]
  },
  {
   "cell_type": "code",
   "execution_count": null,
   "metadata": {},
   "outputs": [],
   "source": [
    "gdf_favelas_atual = gpd.read_file('data/SIRGAS_SHP_favela/SIRGAS_SHP_favela.shp')"
   ]
  },
  {
   "cell_type": "code",
   "execution_count": null,
   "metadata": {},
   "outputs": [],
   "source": [
    "gdf_quadriculas = gpd.read_file('data/quadriculas-32m-nas-areas-de-favela-atual.gpkg')"
   ]
  },
  {
   "cell_type": "code",
   "execution_count": null,
   "metadata": {},
   "outputs": [],
   "source": [
    "#gdf_edificacoes_unnary = gdf_edificacoes_mdc.unary_union()"
   ]
  },
  {
   "cell_type": "code",
   "execution_count": null,
   "metadata": {},
   "outputs": [],
   "source": [
    "gdf_edificacoes_mdc = gdf_edificacoes_mdc.to_crs(31983)"
   ]
  },
  {
   "cell_type": "code",
   "execution_count": null,
   "metadata": {},
   "outputs": [],
   "source": [
    "gdf_quadriculas_unary = gdf_quadriculas.unary_union"
   ]
  },
  {
   "cell_type": "code",
   "execution_count": null,
   "metadata": {},
   "outputs": [],
   "source": [
    "gpd.sjoin(gdf_quadriculas.sample(n=10), gdf_edificacoes_mdc, how='left')"
   ]
  },
  {
   "cell_type": "code",
   "execution_count": null,
   "metadata": {},
   "outputs": [],
   "source": [
    "gdf_edificacoes_mdc_quadriculas"
   ]
  },
  {
   "cell_type": "code",
   "execution_count": null,
   "metadata": {},
   "outputs": [],
   "source": [
    "gdf_quadriculas_alvo = gpd.sjoin(gdf_quadriculas, gdf_edificacoes_mdc, how='left')"
   ]
  },
  {
   "cell_type": "code",
   "execution_count": null,
   "metadata": {},
   "outputs": [],
   "source": [
    "gdf_quadriculas_alvo"
   ]
  },
  {
   "cell_type": "code",
   "execution_count": 2,
   "metadata": {},
   "outputs": [],
   "source": [
    "import rasterio"
   ]
  },
  {
   "cell_type": "code",
   "execution_count": 5,
   "metadata": {},
   "outputs": [],
   "source": [
    "dataset = rasterio.open('ortofotosMDC2004/1O_3332-234_060928.JPG')"
   ]
  },
  {
   "cell_type": "code",
   "execution_count": 6,
   "metadata": {},
   "outputs": [
    {
     "data": {
      "text/plain": [
       "BoundingBox(left=333698.4745, bottom=7385174.3077, right=334246.4745, top=7385767.1827)"
      ]
     },
     "execution_count": 6,
     "metadata": {},
     "output_type": "execute_result"
    }
   ],
   "source": [
    "dataset.bounds"
   ]
  },
  {
   "cell_type": "code",
   "execution_count": null,
   "metadata": {},
   "outputs": [],
   "source": []
  }
 ],
 "metadata": {
  "interpreter": {
   "hash": "1e94f94c3dc9cb9ecdb50465f759d70d8afbee71b2fe12a78bdcd721d76e1ec6"
  },
  "kernelspec": {
   "display_name": "Python 3.8.11 64-bit ('geo': conda)",
   "name": "python3"
  },
  "language_info": {
   "codemirror_mode": {
    "name": "ipython",
    "version": 3
   },
   "file_extension": ".py",
   "mimetype": "text/x-python",
   "name": "python",
   "nbconvert_exporter": "python",
   "pygments_lexer": "ipython3",
   "version": "3.9.7"
  },
  "orig_nbformat": 4
 },
 "nbformat": 4,
 "nbformat_minor": 2
}
