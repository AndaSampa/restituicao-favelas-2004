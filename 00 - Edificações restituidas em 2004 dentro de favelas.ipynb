{
 "cells": [
  {
   "cell_type": "markdown",
   "source": [
    "# Edificações restituidas em 2004 dentro de favelas\r\n",
    "\r\n",
    "Inicialmente precisamos criar uma base de treinamento para o algorítimo de Inteligência artificial, indicando edificações que foram restituidas em 2004 dentro de favelas e posteriormente rodando para toda a cidade sobre a mesma base de ortofotos de 2004 para identificar todas as edificações em áreas de favela naquela data."
   ],
   "metadata": {}
  },
  {
   "cell_type": "markdown",
   "source": [],
   "metadata": {}
  }
 ],
 "metadata": {
  "orig_nbformat": 4,
  "language_info": {
   "name": "python"
  }
 },
 "nbformat": 4,
 "nbformat_minor": 2
}