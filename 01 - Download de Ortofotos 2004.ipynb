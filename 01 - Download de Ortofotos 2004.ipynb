{
 "cells": [
  {
   "cell_type": "markdown",
   "source": [
    "# Download de ortofotos - MDC 2004\r\n",
    "\r\n",
    "## Imagens de treinamento"
   ],
   "metadata": {}
  },
  {
   "cell_type": "code",
   "execution_count": 68,
   "source": [
    "import geopandas as gpd"
   ],
   "outputs": [],
   "metadata": {}
  },
  {
   "cell_type": "code",
   "execution_count": 69,
   "source": [
    "gdf_fotos = gpd.read_file('data/folhas-20-oumais-quadriculas-treinamento.gpkg')"
   ],
   "outputs": [],
   "metadata": {}
  },
  {
   "cell_type": "code",
   "execution_count": 70,
   "source": [
    "import os\r\n",
    "cwd = os.getcwd()\r\n",
    "\r\n",
    "from selenium import webdriver\r\n",
    "from selenium.webdriver.chrome.options import Options\r\n",
    "\r\n",
    "options = Options()\r\n",
    "options.add_experimental_option(\"prefs\", {\r\n",
    "  \"download.default_directory\": cwd+\"\\ortofotosMDC2004\\\\treinamento\",\r\n",
    "  \"download.prompt_for_download\": False,\r\n",
    "  \"download.directory_upgrade\": True,\r\n",
    "  \"safebrowsing.enabled\": True\r\n",
    "})\r\n",
    "\r\n"
   ],
   "outputs": [
    {
     "output_type": "stream",
     "name": "stderr",
     "text": [
      "C:\\Users\\D877341\\AppData\\Local\\Temp/ipykernel_40860/1201761037.py:15: DeprecationWarning: use options instead of chrome_options\n",
      "  driver = webdriver.Chrome(chrome_options=options)\n"
     ]
    }
   ],
   "metadata": {}
  },
  {
   "cell_type": "code",
   "execution_count": null,
   "source": [
    "driver = webdriver.Chrome(chrome_options=options)"
   ],
   "outputs": [],
   "metadata": {}
  },
  {
   "cell_type": "code",
   "execution_count": 71,
   "source": [
    "url_download = \"http://mapas.geosampa.prodam/PaginasPublicas/downloadIfr.aspx?orig=DownloadMapaArticulacao&arq=ORTOFOTOS_2004%5C1O_{}.zip&arqTipo=MAPA_ARTICULACAO\"\r\n"
   ],
   "outputs": [],
   "metadata": {}
  },
  {
   "cell_type": "code",
   "execution_count": 72,
   "source": [
    "for scm in gdf_fotos.qo2004_cod.to_list():\r\n",
    "    driver.get(url_download.format(scm))"
   ],
   "outputs": [],
   "metadata": {}
  },
  {
   "cell_type": "markdown",
   "source": [
    "## Imagens para processamento - Todas as imagens"
   ],
   "metadata": {}
  },
  {
   "cell_type": "code",
   "execution_count": 73,
   "source": [
    "gdf_mdc2004 = gpd.read_file('data/SIRGAS_SHP_quadriculaortofoto2004/SIRGAS_SHP_quadriculaortofoto2004.shp')"
   ],
   "outputs": [],
   "metadata": {}
  },
  {
   "cell_type": "code",
   "execution_count": 76,
   "source": [
    "options.add_experimental_option(\"prefs\", {\r\n",
    "  \"download.default_directory\": cwd+\"\\ortofotosMDC2004\",\r\n",
    "  \"download.prompt_for_download\": False,\r\n",
    "  \"download.directory_upgrade\": True,\r\n",
    "  \"safebrowsing.enabled\": True\r\n",
    "})\r\n",
    "\r\n",
    "driver = webdriver.Chrome(chrome_options=options)"
   ],
   "outputs": [
    {
     "output_type": "stream",
     "name": "stderr",
     "text": [
      "C:\\Users\\D877341\\AppData\\Local\\Temp/ipykernel_40860/2007318710.py:8: DeprecationWarning: use options instead of chrome_options\n",
      "  driver = webdriver.Chrome(chrome_options=options)\n"
     ]
    }
   ],
   "metadata": {}
  },
  {
   "cell_type": "code",
   "execution_count": 77,
   "source": [
    "for scm in gdf_mdc2004.qo2004_cod.to_list():\r\n",
    "    driver.get(url_download.format(scm))"
   ],
   "outputs": [],
   "metadata": {}
  },
  {
   "cell_type": "code",
   "execution_count": 84,
   "source": [
    "url_download_5000 = \"http://mapas.geosampa.prodam/PaginasPublicas/downloadIfr.aspx?orig=DownloadMapaArticulacao&arq=ORTOFOTOS_2004%5C5O_{}.zip&arqTipo=MAPA_ARTICULACAO\""
   ],
   "outputs": [],
   "metadata": {}
  },
  {
   "cell_type": "code",
   "execution_count": 86,
   "source": [
    "for scm in gdf_mdc2004.loc[gdf_mdc2004.qo2004_cod.str.len() == 6, 'qo2004_cod'].to_list():\r\n",
    "    driver.get(url_download_5000.format(scm))"
   ],
   "outputs": [],
   "metadata": {}
  },
  {
   "cell_type": "code",
   "execution_count": null,
   "source": [],
   "outputs": [],
   "metadata": {}
  }
 ],
 "metadata": {
  "orig_nbformat": 4,
  "language_info": {
   "name": "python",
   "version": "3.8.10",
   "mimetype": "text/x-python",
   "codemirror_mode": {
    "name": "ipython",
    "version": 3
   },
   "pygments_lexer": "ipython3",
   "nbconvert_exporter": "python",
   "file_extension": ".py"
  },
  "kernelspec": {
   "name": "python3",
   "display_name": "Python 3.8.10 64-bit ('geo': conda)"
  },
  "interpreter": {
   "hash": "908a4c48a1c4924d969e586c0e1fa750734cfa9d48271eb93a402166d0f979f7"
  }
 },
 "nbformat": 4,
 "nbformat_minor": 2
}