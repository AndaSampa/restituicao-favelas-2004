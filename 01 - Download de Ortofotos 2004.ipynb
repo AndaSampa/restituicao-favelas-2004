{
 "cells": [
  {
   "cell_type": "markdown",
   "source": [
    "# Download de ortofotos - MDC 2004\r\n",
    "\r\n",
    "## Imagens de treinamento"
   ],
   "metadata": {}
  },
  {
   "cell_type": "code",
   "execution_count": 68,
   "source": [
    "import geopandas as gpd"
   ],
   "outputs": [],
   "metadata": {}
  },
  {
   "cell_type": "code",
   "execution_count": 69,
   "source": [
    "gdf_fotos = gpd.read_file('data/folhas-20-oumais-quadriculas-treinamento.gpkg')"
   ],
   "outputs": [],
   "metadata": {}
  },
  {
   "cell_type": "code",
   "execution_count": 114,
   "source": [
    "import os\r\n",
    "cwd = os.getcwd()\r\n",
    "\r\n",
    "from selenium import webdriver\r\n",
    "from selenium.webdriver.chrome.options import Options\r\n",
    "\r\n",
    "options = Options()\r\n",
    "options.add_experimental_option(\"prefs\", {\r\n",
    "  \"download.default_directory\": cwd+\"\\ortofotosMDC2004\\\\treinamento\",\r\n",
    "  \"download.prompt_for_download\": False,\r\n",
    "  \"download.directory_upgrade\": True,\r\n",
    "  \"safebrowsing.enabled\": True\r\n",
    "})\r\n",
    "\r\n"
   ],
   "outputs": [],
   "metadata": {}
  },
  {
   "cell_type": "code",
   "execution_count": null,
   "source": [
    "driver = webdriver.Chrome(chrome_options=options)"
   ],
   "outputs": [],
   "metadata": {}
  },
  {
   "cell_type": "code",
   "execution_count": 71,
   "source": [
    "url_download = \"http://mapas.geosampa.prodam/PaginasPublicas/downloadIfr.aspx?orig=DownloadMapaArticulacao&arq=ORTOFOTOS_2004%5C1O_{}.zip&arqTipo=MAPA_ARTICULACAO\"\r\n"
   ],
   "outputs": [],
   "metadata": {}
  },
  {
   "cell_type": "code",
   "execution_count": 72,
   "source": [
    "for scm in gdf_fotos.qo2004_cod.to_list():\r\n",
    "    driver.get(url_download.format(scm))"
   ],
   "outputs": [],
   "metadata": {}
  },
  {
   "cell_type": "markdown",
   "source": [
    "## Imagens para processamento - Todas as imagens"
   ],
   "metadata": {}
  },
  {
   "cell_type": "code",
   "execution_count": 73,
   "source": [
    "gdf_mdc2004 = gpd.read_file('data/SIRGAS_SHP_quadriculaortofoto2004/SIRGAS_SHP_quadriculaortofoto2004.shp')"
   ],
   "outputs": [],
   "metadata": {}
  },
  {
   "cell_type": "code",
   "execution_count": 120,
   "source": [
    "options.add_experimental_option(\"prefs\", {\r\n",
    "  \"download.default_directory\": cwd+\"\\ortofotosMDC2004\",\r\n",
    "  \"download.prompt_for_download\": False,\r\n",
    "  \"download.directory_upgrade\": True,\r\n",
    "  \"safebrowsing.enabled\": True\r\n",
    "})\r\n",
    "\r\n",
    "driver = webdriver.Chrome(chrome_options=options)"
   ],
   "outputs": [
    {
     "output_type": "stream",
     "name": "stderr",
     "text": [
      "C:\\Users\\D877341\\AppData\\Local\\Temp/ipykernel_40860/2007318710.py:8: DeprecationWarning: use options instead of chrome_options\n",
      "  driver = webdriver.Chrome(chrome_options=options)\n"
     ]
    }
   ],
   "metadata": {}
  },
  {
   "cell_type": "code",
   "execution_count": 77,
   "source": [
    "for scm in gdf_mdc2004.qo2004_cod.to_list():\r\n",
    "    driver.get(url_download.format(scm))"
   ],
   "outputs": [],
   "metadata": {}
  },
  {
   "cell_type": "code",
   "execution_count": 84,
   "source": [
    "url_download_5000 = \"http://mapas.geosampa.prodam/PaginasPublicas/downloadIfr.aspx?orig=DownloadMapaArticulacao&arq=ORTOFOTOS_2004%5C5O_{}.zip&arqTipo=MAPA_ARTICULACAO\""
   ],
   "outputs": [],
   "metadata": {}
  },
  {
   "cell_type": "code",
   "execution_count": 86,
   "source": [
    "for scm in gdf_mdc2004.loc[gdf_mdc2004.qo2004_cod.str.len() == 6, 'qo2004_cod'].to_list():\r\n",
    "    driver.get(url_download_5000.format(scm))"
   ],
   "outputs": [],
   "metadata": {}
  },
  {
   "cell_type": "code",
   "execution_count": 87,
   "source": [
    "## TODO verificar se todos os arquivos foram baixados"
   ],
   "outputs": [],
   "metadata": {}
  },
  {
   "cell_type": "code",
   "execution_count": 88,
   "source": [
    "import os.path"
   ],
   "outputs": [],
   "metadata": {}
  },
  {
   "cell_type": "code",
   "execution_count": 91,
   "source": [
    "os.path.exists(cwd+'/ortofotosMDC2004/1O_2222-133.zip')"
   ],
   "outputs": [
    {
     "output_type": "execute_result",
     "data": {
      "text/plain": [
       "False"
      ]
     },
     "metadata": {},
     "execution_count": 91
    }
   ],
   "metadata": {}
  },
  {
   "cell_type": "code",
   "execution_count": 121,
   "source": [
    "c = 0\r\n",
    "\r\n",
    "for scm in gdf_mdc2004.loc[gdf_mdc2004.qo2004_cod.str.len() == 8, 'qo2004_cod'].to_list():\r\n",
    "    #driver.get(url_download.format(scm))\r\n",
    "    if not os.path.exists(cwd+f'/ortofotosMDC2004/1O_{scm}.zip'):\r\n",
    "        print(scm)\r\n",
    "        driver.get(url_download.format(scm))"
   ],
   "outputs": [
    {
     "output_type": "stream",
     "name": "stdout",
     "text": [
      "3313-321\n",
      "3312-214\n",
      "3312-223\n",
      "3312-224\n",
      "3312-233\n",
      "3312-242\n",
      "3313-331\n",
      "3313-163\n",
      "3312-251\n",
      "3312-252\n",
      "3312-261\n",
      "3435-361\n"
     ]
    }
   ],
   "metadata": {}
  },
  {
   "cell_type": "code",
   "execution_count": 118,
   "source": [
    "gdf_mdc2004"
   ],
   "outputs": [
    {
     "output_type": "execute_result",
     "data": {
      "text/html": [
       "<div>\n",
       "<style scoped>\n",
       "    .dataframe tbody tr th:only-of-type {\n",
       "        vertical-align: middle;\n",
       "    }\n",
       "\n",
       "    .dataframe tbody tr th {\n",
       "        vertical-align: top;\n",
       "    }\n",
       "\n",
       "    .dataframe thead th {\n",
       "        text-align: right;\n",
       "    }\n",
       "</style>\n",
       "<table border=\"1\" class=\"dataframe\">\n",
       "  <thead>\n",
       "    <tr style=\"text-align: right;\">\n",
       "      <th></th>\n",
       "      <th>qo2004_cod</th>\n",
       "      <th>geometry</th>\n",
       "    </tr>\n",
       "  </thead>\n",
       "  <tbody>\n",
       "    <tr>\n",
       "      <th>0</th>\n",
       "      <td>2342-252</td>\n",
       "      <td>POLYGON ((319848.870 7384969.377, 320380.281 7...</td>\n",
       "    </tr>\n",
       "    <tr>\n",
       "      <th>1</th>\n",
       "      <td>2342-253</td>\n",
       "      <td>POLYGON ((319324.620 7384385.996, 319856.000 7...</td>\n",
       "    </tr>\n",
       "    <tr>\n",
       "      <th>2</th>\n",
       "      <td>2342-254</td>\n",
       "      <td>POLYGON ((319856.000 7384392.576, 320387.381 7...</td>\n",
       "    </tr>\n",
       "    <tr>\n",
       "      <th>3</th>\n",
       "      <td>2342-261</td>\n",
       "      <td>POLYGON ((320380.281 7384975.927, 320911.672 7...</td>\n",
       "    </tr>\n",
       "    <tr>\n",
       "      <th>4</th>\n",
       "      <td>2342-262</td>\n",
       "      <td>POLYGON ((320911.672 7384982.467, 321443.072 7...</td>\n",
       "    </tr>\n",
       "    <tr>\n",
       "      <th>...</th>\n",
       "      <td>...</td>\n",
       "      <td>...</td>\n",
       "    </tr>\n",
       "    <tr>\n",
       "      <th>3921</th>\n",
       "      <td>3434-1</td>\n",
       "      <td>POLYGON ((330728.483 7409327.254, 330755.014 7...</td>\n",
       "    </tr>\n",
       "    <tr>\n",
       "      <th>3922</th>\n",
       "      <td>3432-3</td>\n",
       "      <td>POLYGON ((327507.899 7411597.266, 330701.993 7...</td>\n",
       "    </tr>\n",
       "    <tr>\n",
       "      <th>3923</th>\n",
       "      <td>3434-4</td>\n",
       "      <td>POLYGON ((333948.063 7407056.588, 333954.570 7...</td>\n",
       "    </tr>\n",
       "    <tr>\n",
       "      <th>3924</th>\n",
       "      <td>3434-2</td>\n",
       "      <td>POLYGON ((330728.483 7409327.254, 333922.037 7...</td>\n",
       "    </tr>\n",
       "    <tr>\n",
       "      <th>3925</th>\n",
       "      <td>3441-3</td>\n",
       "      <td>POLYGON ((337090.061 7411706.248, 337115.551 7...</td>\n",
       "    </tr>\n",
       "  </tbody>\n",
       "</table>\n",
       "<p>3926 rows × 2 columns</p>\n",
       "</div>"
      ],
      "text/plain": [
       "     qo2004_cod                                           geometry\n",
       "0      2342-252  POLYGON ((319848.870 7384969.377, 320380.281 7...\n",
       "1      2342-253  POLYGON ((319324.620 7384385.996, 319856.000 7...\n",
       "2      2342-254  POLYGON ((319856.000 7384392.576, 320387.381 7...\n",
       "3      2342-261  POLYGON ((320380.281 7384975.927, 320911.672 7...\n",
       "4      2342-262  POLYGON ((320911.672 7384982.467, 321443.072 7...\n",
       "...         ...                                                ...\n",
       "3921     3434-1  POLYGON ((330728.483 7409327.254, 330755.014 7...\n",
       "3922     3432-3  POLYGON ((327507.899 7411597.266, 330701.993 7...\n",
       "3923     3434-4  POLYGON ((333948.063 7407056.588, 333954.570 7...\n",
       "3924     3434-2  POLYGON ((330728.483 7409327.254, 333922.037 7...\n",
       "3925     3441-3  POLYGON ((337090.061 7411706.248, 337115.551 7...\n",
       "\n",
       "[3926 rows x 2 columns]"
      ]
     },
     "metadata": {},
     "execution_count": 118
    }
   ],
   "metadata": {}
  },
  {
   "cell_type": "code",
   "execution_count": null,
   "source": [],
   "outputs": [],
   "metadata": {}
  }
 ],
 "metadata": {
  "orig_nbformat": 4,
  "language_info": {
   "name": "python",
   "version": "3.8.10",
   "mimetype": "text/x-python",
   "codemirror_mode": {
    "name": "ipython",
    "version": 3
   },
   "pygments_lexer": "ipython3",
   "nbconvert_exporter": "python",
   "file_extension": ".py"
  },
  "kernelspec": {
   "name": "python3",
   "display_name": "Python 3.8.10 64-bit ('geo': conda)"
  },
  "interpreter": {
   "hash": "908a4c48a1c4924d969e586c0e1fa750734cfa9d48271eb93a402166d0f979f7"
  }
 },
 "nbformat": 4,
 "nbformat_minor": 2
}